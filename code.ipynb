{
  "nbformat": 4,
  "nbformat_minor": 0,
  "metadata": {
    "colab": {
      "provenance": []
    },
    "kernelspec": {
      "name": "python3",
      "display_name": "Python 3"
    },
    "language_info": {
      "name": "python"
    }
  },
  "cells": [
    {
      "cell_type": "markdown",
      "source": [
        "## **Lab Assignment 1: Algorithm Foundations**"
      ],
      "metadata": {
        "id": "Rx62y_orlRxq"
      }
    },
    {
      "cell_type": "code",
      "execution_count": null,
      "metadata": {
        "id": "sk2qqTSrjbPw"
      },
      "outputs": [],
      "source": [
        "import time, random\n",
        "import matplotlib.pyplot as plt"
      ]
    },
    {
      "cell_type": "markdown",
      "source": [
        "**Task 1: Fibonacci (Recursive vs Dynamic Programming)**\n",
        "\n",
        "Recursive Fibonacci calls itself again and again → very slow (O(2^n)).\n",
        "\n",
        "DP Fibonacci stores results → fast (O(n))."
      ],
      "metadata": {
        "id": "ObMB_vl8lWAq"
      }
    },
    {
      "cell_type": "code",
      "source": [
        "def fib_rec(n):\n",
        "    if n<=1: return n\n",
        "    return fib_rec(n-1)+fib_rec(n-2)"
      ],
      "metadata": {
        "id": "Pk5xSaZikfBq"
      },
      "execution_count": null,
      "outputs": []
    },
    {
      "cell_type": "code",
      "source": [
        "def fib_dp(n):\n",
        "    f=[0,1]\n",
        "    for i in range(2,n+1):\n",
        "        f.append(f[i-1]+f[i-2])\n",
        "    return f[n]"
      ],
      "metadata": {
        "id": "-nPQAYYGkqki"
      },
      "execution_count": null,
      "outputs": []
    },
    {
      "cell_type": "code",
      "source": [
        "print(\"Fib Rec(10):\", fib_rec(10))\n",
        "print(\"Fib DP(10):\", fib_dp(10))"
      ],
      "metadata": {
        "colab": {
          "base_uri": "https://localhost:8080/"
        },
        "id": "Lvu2T8GGksXK",
        "outputId": "3d0ab7b9-b555-4798-9a98-b6c3391e1fa5"
      },
      "execution_count": null,
      "outputs": [
        {
          "output_type": "stream",
          "name": "stdout",
          "text": [
            "Fib Rec(10): 55\n",
            "Fib DP(10): 55\n"
          ]
        }
      ]
    },
    {
      "cell_type": "markdown",
      "source": [
        "**Task 2: Sorting Algorithms**\n",
        "\n",
        "Bubble Sort: Swap repeatedly → O(n²)\n",
        "\n",
        "Insertion Sort: Insert into correct position → O(n²)\n",
        "\n",
        "Selection Sort: Pick smallest each time → O(n²)\n",
        "\n",
        "Merge Sort: Divide and merge → O(n log n)\n",
        "\n",
        "Quick Sort: Divide by pivot → O(n log n) average, O(n²) worst"
      ],
      "metadata": {
        "id": "24wsAw1Xlxrq"
      }
    },
    {
      "cell_type": "code",
      "source": [
        "def bubble_sort(arr):\n",
        "    n = len(arr)\n",
        "    for i in range(n-1):\n",
        "        for j in range(n-i-1):\n",
        "            if arr[j] > arr[j+1]:\n",
        "                arr[j], arr[j+1] = arr[j+1], arr[j]\n",
        "    return arr\n",
        "\n",
        "arr = [5, 3, 1, 4, 2]\n",
        "print(\"Original:\", arr)\n",
        "print(\"Sorted:\", bubble_sort(arr))"
      ],
      "metadata": {
        "colab": {
          "base_uri": "https://localhost:8080/"
        },
        "id": "wlkZTMhOk28i",
        "outputId": "8244b909-7c52-448a-f179-ee8e6817dadf"
      },
      "execution_count": null,
      "outputs": [
        {
          "output_type": "stream",
          "name": "stdout",
          "text": [
            "Original: [5, 3, 1, 4, 2]\n",
            "Sorted: [1, 2, 3, 4, 5]\n"
          ]
        }
      ]
    },
    {
      "cell_type": "code",
      "source": [
        "def insertion_sort(a):\n",
        "    for i in range(1, len(a)):\n",
        "        key = a[i]; j = i-1\n",
        "        while j >= 0 and a[j] > key:\n",
        "            a[j+1] = a[j]; j -= 1\n",
        "        a[j+1] = key\n",
        "    return a\n",
        "\n",
        "a = [5,3,1,4,2]\n",
        "print(\"sorted : \", insertion_sort(a))"
      ],
      "metadata": {
        "id": "m9k5h-WSm3Ni",
        "colab": {
          "base_uri": "https://localhost:8080/"
        },
        "outputId": "ee88c303-c131-424a-beef-1ed62568e8cf"
      },
      "execution_count": 26,
      "outputs": [
        {
          "output_type": "stream",
          "name": "stdout",
          "text": [
            "sorted :  [1, 2, 3, 4, 5]\n"
          ]
        }
      ]
    },
    {
      "cell_type": "code",
      "source": [
        "def selection_sort(a):\n",
        "    for i in range(len(a)):\n",
        "        min_idx = i\n",
        "        for j in range(i+1, len(a)):\n",
        "            if a[j] < a[min_idx]:\n",
        "                min_idx = j\n",
        "        a[i], a[min_idx] = a[min_idx], a[i]\n",
        "    return a\n",
        "\n",
        "a = [5,3,1,4,2]\n",
        "print(\"sorted : \", selection_sort(a))"
      ],
      "metadata": {
        "id": "0hwk3541nATK",
        "colab": {
          "base_uri": "https://localhost:8080/"
        },
        "outputId": "cbf2840e-d2cf-46c1-ab6d-368faa502ca7"
      },
      "execution_count": 27,
      "outputs": [
        {
          "output_type": "stream",
          "name": "stdout",
          "text": [
            "sorted :  [1, 2, 3, 4, 5]\n"
          ]
        }
      ]
    },
    {
      "cell_type": "code",
      "source": [
        "def merge_sort(a):\n",
        "    if len(a) <= 1:\n",
        "        return a\n",
        "    mid = len(a)//2\n",
        "    left = merge_sort(a[:mid])\n",
        "    right = merge_sort(a[mid:])\n",
        "    return merge(left, right)\n",
        "\n",
        "a = [5,3,1,4,2]\n",
        "print(\"sorted : \", merge_sort(a))"
      ],
      "metadata": {
        "id": "4a1cv477nMDa",
        "colab": {
          "base_uri": "https://localhost:8080/"
        },
        "outputId": "d7aa2856-a3c2-4704-fa0e-226255a8dfb7"
      },
      "execution_count": 30,
      "outputs": [
        {
          "output_type": "stream",
          "name": "stdout",
          "text": [
            "sorted :  [1, 2, 3, 4, 5]\n"
          ]
        }
      ]
    },
    {
      "cell_type": "code",
      "source": [
        "def quick_sort(a):\n",
        "    if len(a) <= 1:\n",
        "        return a\n",
        "    pivot = a[0]\n",
        "    left = [x for x in a[1:] if x < pivot]\n",
        "    right = [x for x in a[1:] if x >= pivot]\n",
        "    return quick_sort(left) + [pivot] + quick_sort(right)\n",
        "\n",
        "a = [5,3,1,4,2]\n",
        "print(\"sorted : \", merge_sort(a))"
      ],
      "metadata": {
        "id": "f8StPlP0nOva",
        "colab": {
          "base_uri": "https://localhost:8080/"
        },
        "outputId": "cb1c31f5-2ab0-4832-e9c5-4565471bb260"
      },
      "execution_count": 29,
      "outputs": [
        {
          "output_type": "stream",
          "name": "stdout",
          "text": [
            "sorted :  [1, 2, 3, 4, 5]\n"
          ]
        }
      ]
    },
    {
      "cell_type": "markdown",
      "source": [
        "**Task 3: Binary Search**\n",
        "\n",
        "Works on sorted arrays\n",
        "\n",
        "Cuts search space in half each time\n",
        "\n",
        "O(log n) time"
      ],
      "metadata": {
        "id": "7u-8w3MKnUuq"
      }
    },
    {
      "cell_type": "code",
      "source": [
        "def binary_search(a, x):\n",
        "    l, h = 0, len(a)-1\n",
        "    while l <= h:\n",
        "        mid = (l+h)//2\n",
        "        if a[mid] == x:\n",
        "            return mid\n",
        "        elif a[mid] < x:\n",
        "            l = mid+1\n",
        "        else:\n",
        "            h = mid-1\n",
        "    return -1\n",
        "\n",
        "print(\"Binary Search on [1,2,3,4,5], 3 →\", binary_search([1,2,3,4,5], 3))"
      ],
      "metadata": {
        "colab": {
          "base_uri": "https://localhost:8080/"
        },
        "id": "rpM1KNP1ncHi",
        "outputId": "cfaf80c2-077d-40ba-c37c-e9b85b5c5db0"
      },
      "execution_count": null,
      "outputs": [
        {
          "output_type": "stream",
          "name": "stdout",
          "text": [
            "Binary Search on [1,2,3,4,5], 3 → 2\n"
          ]
        }
      ]
    },
    {
      "cell_type": "markdown",
      "source": [
        "**Task 4: Experimental Profiling & Graph**\n",
        "\n",
        "Bubble Sort grows very slow for large inputs.\n",
        "\n",
        "Merge Sort grows much faster.\n",
        "\n",
        "Graph shows Bubble rising steeply, Merge rising slowly."
      ],
      "metadata": {
        "id": "BKtN6Qh_niSX"
      }
    },
    {
      "cell_type": "code",
      "source": [
        "import time, random, matplotlib.pyplot as plt\n",
        "\n",
        "sizes = [100, 500, 1000, 2000]\n",
        "times_bubble = []\n",
        "times_merge = []\n",
        "\n",
        "for n in sizes:\n",
        "    arr = [random.randint(0,10000) for _ in range(n)]\n",
        "    # Bubble\n",
        "    a = arr[:]; start = time.time(); bubble_sort(a); times_bubble.append(time.time()-start)\n",
        "    # Merge\n",
        "    a = arr[:]; start = time.time(); merge_sort(a); times_merge.append(time.time()-start)\n",
        "\n",
        "plt.plot(sizes, times_bubble, label=\"Bubble Sort\")\n",
        "plt.plot(sizes, times_merge, label=\"Merge Sort\")\n",
        "plt.xlabel(\"Input Size\"); plt.ylabel(\"Time (s)\")\n",
        "plt.title(\"Sorting Performance\")\n",
        "plt.legend()\n",
        "plt.show()"
      ],
      "metadata": {
        "colab": {
          "base_uri": "https://localhost:8080/",
          "height": 472
        },
        "id": "21TjkcaRnlYq",
        "outputId": "db6f5537-b2cd-4ef8-dbfb-b9b07548fd16"
      },
      "execution_count": null,
      "outputs": [
        {
          "output_type": "display_data",
          "data": {
            "text/plain": [
              "<Figure size 640x480 with 1 Axes>"
            ],
            "image/png": "[encoded data removed]"
          },
          "metadata": {}
        }
      ]
    },
    {
      "cell_type": "markdown",
      "source": [],
      "metadata": {
        "id": "Cyjle5qfnoyC"
      }
    }
  ]
}